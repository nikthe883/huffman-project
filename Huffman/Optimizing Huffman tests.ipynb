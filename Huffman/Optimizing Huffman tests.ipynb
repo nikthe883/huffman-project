{
 "cells": [
  {
   "cell_type": "code",
   "execution_count": 1,
   "id": "8752b203",
   "metadata": {},
   "outputs": [],
   "source": [
    "import numpy as np"
   ]
  },
  {
   "cell_type": "code",
   "execution_count": 2,
   "id": "a01363f7",
   "metadata": {},
   "outputs": [
    {
     "data": {
      "text/plain": [
       "69"
      ]
     },
     "execution_count": 2,
     "metadata": {},
     "output_type": "execute_result"
    }
   ],
   "source": [
    "text = \"Hi this is my name which is Peter, nice to meet you. Have a great day\"\n",
    "len(text)"
   ]
  },
  {
   "cell_type": "markdown",
   "id": "d928342e",
   "metadata": {},
   "source": [
    "taking the first character and assiging it possitions"
   ]
  },
  {
   "cell_type": "code",
   "execution_count": 3,
   "id": "f05eb5e8",
   "metadata": {},
   "outputs": [],
   "source": [
    "arr = np.array(list(text))"
   ]
  },
  {
   "cell_type": "code",
   "execution_count": 4,
   "id": "78c4fc70",
   "metadata": {},
   "outputs": [
    {
     "data": {
      "text/plain": [
       "array(['H', 'i', ' ', 't', 'h', 'i', 's', ' ', 'i', 's', ' ', 'm', 'y',\n",
       "       ' ', 'n', 'a', 'm', 'e', ' ', 'w', 'h', 'i', 'c', 'h', ' ', 'i',\n",
       "       's', ' ', 'P', 'e', 't', 'e', 'r', ',', ' ', 'n', 'i', 'c', 'e',\n",
       "       ' ', 't', 'o', ' ', 'm', 'e', 'e', 't', ' ', 'y', 'o', 'u', '.',\n",
       "       ' ', 'H', 'a', 'v', 'e', ' ', 'a', ' ', 'g', 'r', 'e', 'a', 't',\n",
       "       ' ', 'd', 'a', 'y'], dtype='<U1')"
      ]
     },
     "execution_count": 4,
     "metadata": {},
     "output_type": "execute_result"
    }
   ],
   "source": [
    "arr"
   ]
  },
  {
   "cell_type": "code",
   "execution_count": 5,
   "id": "dc455a4c",
   "metadata": {},
   "outputs": [],
   "source": [
    "unique_values = []\n",
    "for i in text:\n",
    "    if i not in unique_values:\n",
    "        unique_values.append(i)"
   ]
  },
  {
   "cell_type": "code",
   "execution_count": 6,
   "id": "2f8dd1c5",
   "metadata": {},
   "outputs": [],
   "source": [
    "indexes = np.where(arr == \" \")"
   ]
  },
  {
   "cell_type": "code",
   "execution_count": 7,
   "id": "bf771265",
   "metadata": {},
   "outputs": [],
   "source": [
    "prime = [3,5,7,11,13,17,19,23,27]\n",
    "something = []\n",
    "chunk_size = 9\n",
    "\n",
    "for i in range(0, len(text), chunk_size):\n",
    "    chunk = text[i:i+chunk_size]\n",
    "    \n",
    "    for index,symbol in enumerate(chunk):\n",
    "        if symbol in unique_values:     \n",
    "            something.append(symbol)\n",
    "            something.append(prime[index])"
   ]
  },
  {
   "cell_type": "code",
   "execution_count": 8,
   "id": "1da80d35",
   "metadata": {},
   "outputs": [],
   "source": [
    "new_list_repeat = []\n",
    "\n",
    "for i in range(0, len(something), 18):\n",
    "    chunk = something[i:i+18]\n",
    "    repeat = []\n",
    "    for i,symbol in enumerate(chunk):\n",
    "        if symbol in repeat:\n",
    "\n",
    "            prime_number = chunk[i + 1] * repeat[repeat.index(symbol) + 1]\n",
    "\n",
    "            repeat[repeat.index(symbol) + 1] = prime_number\n",
    "\n",
    "        else:\n",
    "            repeat.append(symbol)\n",
    "#     new_list_repeat = []\n",
    "    for ind , v in enumerate(repeat):\n",
    "        if isinstance(v,str):\n",
    "            new_list_repeat.append(v)\n",
    "            new_list_repeat.append(repeat[ind+1])\n",
    "                \n",
    "\n",
    "\n"
   ]
  },
  {
   "cell_type": "code",
   "execution_count": 9,
   "id": "7b7670f6",
   "metadata": {},
   "outputs": [],
   "source": [
    "my_dict = {}\n",
    "\n",
    "for i in range(0, len(new_list_repeat), 18):\n",
    "    chunk = new_list_repeat[i:i+18]\n",
    "    for symbol in unique_values:\n",
    "        if symbol in chunk:\n",
    "            my_dict.setdefault(symbol, []).append(str(chunk[chunk.index(symbol) + 1]))\n",
    "        else: \n",
    "             my_dict.setdefault(symbol, []).append(\"0\")"
   ]
  },
  {
   "cell_type": "code",
   "execution_count": 10,
   "id": "72fb2d0e",
   "metadata": {},
   "outputs": [
    {
     "data": {
      "text/plain": [
       "{'H': ['3', '0', '0', '0', '27', '0'],\n",
       " 'i': ['2295', '253', '3', '0', '0', '0'],\n",
       " ' ': ['161', '57', '69', '209', '187', '7'],\n",
       " 't': ['11', '0', '11', '13', '0', '5'],\n",
       " 'h': ['13', '119', '0', '0', '0', '0'],\n",
       " 's': ['19', '0', '27', '0', '0', '0'],\n",
       " 'm': ['161', '0', '0', '23', '0', '0'],\n",
       " 'y': ['0', '11', '0', '0', '11', '17'],\n",
       " 'n': ['0', '17', '27', '0', '0', '0'],\n",
       " 'a': ['0', '19', '0', '0', '39', '39'],\n",
       " 'e': ['0', '27', '91', '189', '189', '0'],\n",
       " 'w': ['0', '5', '0', '0', '0', '0'],\n",
       " 'c': ['0', '13', '0', '5', '0', '0'],\n",
       " 'P': ['0', '0', '5', '0', '0', '0'],\n",
       " 'r': ['0', '0', '17', '0', '0', '23'],\n",
       " ',': ['0', '0', '19', '0', '0', '0'],\n",
       " 'o': ['0', '0', '0', '17', '13', '0'],\n",
       " 'u': ['0', '0', '0', '0', '17', '0'],\n",
       " '.': ['0', '0', '0', '0', '19', '0'],\n",
       " 'v': ['0', '0', '0', '0', '5', '0'],\n",
       " 'g': ['0', '0', '0', '0', '0', '19'],\n",
       " 'd': ['0', '0', '0', '0', '0', '11']}"
      ]
     },
     "execution_count": 10,
     "metadata": {},
     "output_type": "execute_result"
    }
   ],
   "source": [
    "my_dict"
   ]
  },
  {
   "cell_type": "code",
   "execution_count": 11,
   "id": "33a28364",
   "metadata": {},
   "outputs": [],
   "source": [
    "\n",
    "for key,values in my_dict.items():\n",
    "    for i in values:\n",
    "        a = 0\n",
    "        while values[a] == \"0\":\n",
    "            a+=1\n",
    "    my_dict[key] = values[a:]"
   ]
  },
  {
   "cell_type": "code",
   "execution_count": 12,
   "id": "ae1a3e5d",
   "metadata": {},
   "outputs": [
    {
     "data": {
      "text/plain": [
       "{'H': ['3', '0', '0', '0', '27', '0'],\n",
       " 'i': ['2295', '253', '3', '0', '0', '0'],\n",
       " ' ': ['161', '57', '69', '209', '187', '7'],\n",
       " 't': ['11', '0', '11', '13', '0', '5'],\n",
       " 'h': ['13', '119', '0', '0', '0', '0'],\n",
       " 's': ['19', '0', '27', '0', '0', '0'],\n",
       " 'm': ['161', '0', '0', '23', '0', '0'],\n",
       " 'y': ['11', '0', '0', '11', '17'],\n",
       " 'n': ['17', '27', '0', '0', '0'],\n",
       " 'a': ['19', '0', '0', '39', '39'],\n",
       " 'e': ['27', '91', '189', '189', '0'],\n",
       " 'w': ['5', '0', '0', '0', '0'],\n",
       " 'c': ['13', '0', '5', '0', '0'],\n",
       " 'P': ['5', '0', '0', '0'],\n",
       " 'r': ['17', '0', '0', '23'],\n",
       " ',': ['19', '0', '0', '0'],\n",
       " 'o': ['17', '13', '0'],\n",
       " 'u': ['17', '0'],\n",
       " '.': ['19', '0'],\n",
       " 'v': ['5', '0'],\n",
       " 'g': ['19'],\n",
       " 'd': ['11']}"
      ]
     },
     "execution_count": 12,
     "metadata": {},
     "output_type": "execute_result"
    }
   ],
   "source": [
    "my_dict"
   ]
  },
  {
   "cell_type": "code",
   "execution_count": null,
   "id": "f4551529",
   "metadata": {},
   "outputs": [],
   "source": []
  },
  {
   "cell_type": "code",
   "execution_count": 13,
   "id": "18aa3235",
   "metadata": {},
   "outputs": [],
   "source": [
    "new_dict = {'H': ['3', '0', '0', '0', '27', '0']}"
   ]
  },
  {
   "cell_type": "code",
   "execution_count": 14,
   "id": "d6474d76",
   "metadata": {},
   "outputs": [
    {
     "data": {
      "text/plain": [
       "{'H': ['3', '0', '0', '0', '27', '0']}"
      ]
     },
     "execution_count": 14,
     "metadata": {},
     "output_type": "execute_result"
    }
   ],
   "source": [
    "new_dict"
   ]
  },
  {
   "cell_type": "markdown",
   "id": "b1f3465f",
   "metadata": {},
   "source": [
    "giving the possitions in the text of the letters "
   ]
  },
  {
   "cell_type": "code",
   "execution_count": 15,
   "id": "38240e51",
   "metadata": {},
   "outputs": [],
   "source": [
    "prime = [3,5,7,11,13,17,19,23,27]\n",
    "new_dict = {'H': ['3', '0', '0', '0', '27', '0']}\n",
    "for key,value in new_dict.items():\n",
    "\n",
    "    values = []\n",
    "    itt = 0 \n",
    "    for i,v in enumerate(value):\n",
    "        \n",
    "        if int(v) in prime:\n",
    "            \n",
    "            if itt > 0:\n",
    "                values.append(prime.index(int(v))+ 1 + ((i+1) * 9))  \n",
    "            else:\n",
    "                values.append(prime.index(int(v)))\n",
    "            itt += 1\n",
    "        \n",
    "    new_dict[key] = values\n",
    "    "
   ]
  },
  {
   "cell_type": "code",
   "execution_count": 16,
   "id": "c8e17be5",
   "metadata": {},
   "outputs": [
    {
     "data": {
      "text/plain": [
       "{'H': [0, 54]}"
      ]
     },
     "execution_count": 16,
     "metadata": {},
     "output_type": "execute_result"
    }
   ],
   "source": [
    "new_dict"
   ]
  },
  {
   "cell_type": "code",
   "execution_count": 17,
   "id": "bbb61a32",
   "metadata": {},
   "outputs": [
    {
     "data": {
      "text/plain": [
       "{'H': ['3', '0', '0', '0', '27', '0'],\n",
       " 'i': ['2295', '253', '3', '0', '0', '0'],\n",
       " ' ': ['161', '57', '69', '209', '187', '7'],\n",
       " 't': ['11', '0', '11', '13', '0', '5'],\n",
       " 'h': ['13', '119', '0', '0', '0', '0'],\n",
       " 's': ['19', '0', '27', '0', '0', '0'],\n",
       " 'm': ['161', '0', '0', '23', '0', '0'],\n",
       " 'y': ['11', '0', '0', '11', '17'],\n",
       " 'n': ['17', '27', '0', '0', '0'],\n",
       " 'a': ['19', '0', '0', '39', '39'],\n",
       " 'e': ['27', '91', '189', '189', '0'],\n",
       " 'w': ['5', '0', '0', '0', '0'],\n",
       " 'c': ['13', '0', '5', '0', '0'],\n",
       " 'P': ['5', '0', '0', '0'],\n",
       " 'r': ['17', '0', '0', '23'],\n",
       " ',': ['19', '0', '0', '0'],\n",
       " 'o': ['17', '13', '0'],\n",
       " 'u': ['17', '0'],\n",
       " '.': ['19', '0'],\n",
       " 'v': ['5', '0'],\n",
       " 'g': ['19'],\n",
       " 'd': ['11']}"
      ]
     },
     "execution_count": 17,
     "metadata": {},
     "output_type": "execute_result"
    }
   ],
   "source": [
    "my_dict"
   ]
  },
  {
   "cell_type": "markdown",
   "id": "081d1a1f",
   "metadata": {},
   "source": [
    "simplifing the dict -1 :2"
   ]
  },
  {
   "cell_type": "code",
   "execution_count": 18,
   "id": "7b167821",
   "metadata": {},
   "outputs": [],
   "source": [
    "for key,value in my_dict.items():\n",
    "    values = []\n",
    "    for v in value:\n",
    "        if int(v) == 0:\n",
    "            values.append(int(v))\n",
    "        else:\n",
    "            v = (int(v)-1)/2\n",
    "            values.append(int(v))\n",
    "            \n",
    "    my_dict[key] = values"
   ]
  },
  {
   "cell_type": "code",
   "execution_count": 19,
   "id": "e50f8be9",
   "metadata": {},
   "outputs": [
    {
     "data": {
      "text/plain": [
       "{'H': [1, 0, 0, 0, 13, 0],\n",
       " 'i': [1147, 126, 1, 0, 0, 0],\n",
       " ' ': [80, 28, 34, 104, 93, 3],\n",
       " 't': [5, 0, 5, 6, 0, 2],\n",
       " 'h': [6, 59, 0, 0, 0, 0],\n",
       " 's': [9, 0, 13, 0, 0, 0],\n",
       " 'm': [80, 0, 0, 11, 0, 0],\n",
       " 'y': [5, 0, 0, 5, 8],\n",
       " 'n': [8, 13, 0, 0, 0],\n",
       " 'a': [9, 0, 0, 19, 19],\n",
       " 'e': [13, 45, 94, 94, 0],\n",
       " 'w': [2, 0, 0, 0, 0],\n",
       " 'c': [6, 0, 2, 0, 0],\n",
       " 'P': [2, 0, 0, 0],\n",
       " 'r': [8, 0, 0, 11],\n",
       " ',': [9, 0, 0, 0],\n",
       " 'o': [8, 6, 0],\n",
       " 'u': [8, 0],\n",
       " '.': [9, 0],\n",
       " 'v': [2, 0],\n",
       " 'g': [9],\n",
       " 'd': [5]}"
      ]
     },
     "execution_count": 19,
     "metadata": {},
     "output_type": "execute_result"
    }
   ],
   "source": [
    "my_dict"
   ]
  },
  {
   "cell_type": "code",
   "execution_count": null,
   "id": "8fd55c6f",
   "metadata": {},
   "outputs": [],
   "source": []
  },
  {
   "cell_type": "markdown",
   "id": "b94cb835",
   "metadata": {},
   "source": [
    "Check if the code is uniquely decodable https://towardsdatascience.com/the-sardinas-patterson-algorithm-in-simple-python-9718242752c3"
   ]
  },
  {
   "cell_type": "code",
   "execution_count": 20,
   "id": "742b16b4",
   "metadata": {},
   "outputs": [
    {
     "name": "stdout",
     "output_type": "stream",
     "text": [
      "c_1 {'110', '10', '11', '1'}\n",
      "c_2 {'110', '10', '11', '1'}\n",
      "{'010', '11011', '10011', '0110', '1111', '11111', '111', '0', '101', '10001', '1011', '1101'} is uniquely decodable\n"
     ]
    }
   ],
   "source": [
    "def generate_cn(c, n):\n",
    "    if n == 0:\n",
    "        return set(c)\n",
    "    else:\n",
    "        # create a set to hold our new elements\n",
    "        cn = set()\n",
    "        \n",
    "        # generate c_(n-1)\n",
    "        cn_minus_1 = generate_cn(c, n-1)\n",
    "        \n",
    "        for u in c:\n",
    "            for v in cn_minus_1:\n",
    "                if (len(u) > len(v)) and u.find(v) == 0:\n",
    "                    cn.add(u[len(v):])\n",
    "        for u in cn_minus_1:\n",
    "            for v in c:\n",
    "                if len(u) > len(v) and u.find(v) == 0:\n",
    "                    cn.add(u[len(v):])\n",
    "        return cn\n",
    "\n",
    "def generate_c_infinity(c):\n",
    "    cs = []\n",
    "    c_infinity = set()\n",
    "    n = 1\n",
    "    cn = generate_cn(c, n)\n",
    "    print('c_{}'.format(n), cn)\n",
    "    while len(cn) > 0:\n",
    "        if cn in cs:\n",
    "            print('Cycle detected. Halting algorithm.')\n",
    "            break\n",
    "        else:\n",
    "            cs.append(cn)\n",
    "            c_infinity = c_infinity.union(cn)\n",
    "            n += 1\n",
    "            cn = generate_cn(c, n)\n",
    "            print('c_{}'.format(n), c_infinity)\n",
    "        return c_infinity\n",
    "    \n",
    "\n",
    "def sardinas_patterson_theorem(c):\n",
    "    \"\"\"\n",
    "    Returns True if c is uniquely decodable\n",
    "    \"\"\"\n",
    "    c_infinity = generate_c_infinity(c)\n",
    "    return len(c.intersection(c_infinity)) == 0\n",
    "def check_decodability(c):\n",
    "    if sardinas_patterson_theorem(c):\n",
    "        print(c, 'is uniquely decodable')\n",
    "    else:\n",
    "        print(c, 'is not uniquely decodable')\n",
    "c = set(['0', '101', '101', '111', '1111','1011','1101','10001','10011','11011','11111','010','0110'])\n",
    "check_decodability(c)"
   ]
  },
  {
   "cell_type": "code",
   "execution_count": 21,
   "id": "09828422",
   "metadata": {},
   "outputs": [
    {
     "data": {
      "text/plain": [
       "{'H': [1, 0, 0, 0, 13, 0],\n",
       " 'i': [1147, 126, 1, 0, 0, 0],\n",
       " ' ': [80, 28, 34, 104, 93, 3],\n",
       " 't': [5, 0, 5, 6, 0, 2],\n",
       " 'h': [6, 59, 0, 0, 0, 0],\n",
       " 's': [9, 0, 13, 0, 0, 0],\n",
       " 'm': [80, 0, 0, 11, 0, 0],\n",
       " 'y': [5, 0, 0, 5, 8],\n",
       " 'n': [8, 13, 0, 0, 0],\n",
       " 'a': [9, 0, 0, 19, 19],\n",
       " 'e': [13, 45, 94, 94, 0],\n",
       " 'w': [2, 0, 0, 0, 0],\n",
       " 'c': [6, 0, 2, 0, 0],\n",
       " 'P': [2, 0, 0, 0],\n",
       " 'r': [8, 0, 0, 11],\n",
       " ',': [9, 0, 0, 0],\n",
       " 'o': [8, 6, 0],\n",
       " 'u': [8, 0],\n",
       " '.': [9, 0],\n",
       " 'v': [2, 0],\n",
       " 'g': [9],\n",
       " 'd': [5]}"
      ]
     },
     "execution_count": 21,
     "metadata": {},
     "output_type": "execute_result"
    }
   ],
   "source": [
    "my_dict"
   ]
  },
  {
   "cell_type": "code",
   "execution_count": 22,
   "id": "84566604",
   "metadata": {},
   "outputs": [
    {
     "data": {
      "text/plain": [
       "{'H': '1,0,0,0,13,0',\n",
       " 'i': '1147,126,1,0,0,0',\n",
       " ' ': '80,28,34,104,93,3',\n",
       " 't': '5,0,5,6,0,2',\n",
       " 'h': '6,59,0,0,0,0',\n",
       " 's': '9,0,13,0,0,0',\n",
       " 'm': '80,0,0,11,0,0',\n",
       " 'y': '5,0,0,5,8',\n",
       " 'n': '8,13,0,0,0',\n",
       " 'a': '9,0,0,19,19',\n",
       " 'e': '13,45,94,94,0',\n",
       " 'w': '2,0,0,0,0',\n",
       " 'c': '6,0,2,0,0',\n",
       " 'P': '2,0,0,0',\n",
       " 'r': '8,0,0,11',\n",
       " ',': '9,0,0,0',\n",
       " 'o': '8,6,0',\n",
       " 'u': '8,0',\n",
       " '.': '9,0',\n",
       " 'v': '2,0',\n",
       " 'g': '9',\n",
       " 'd': '5'}"
      ]
     },
     "execution_count": 22,
     "metadata": {},
     "output_type": "execute_result"
    }
   ],
   "source": [
    "for key,value in my_dict.items():\n",
    "    listToStr = ','.join([str(elem) for elem in value])\n",
    "            \n",
    "    my_dict[key] = listToStr\n",
    "my_dict"
   ]
  },
  {
   "cell_type": "code",
   "execution_count": 24,
   "id": "3ff68cd5",
   "metadata": {},
   "outputs": [
    {
     "data": {
      "text/plain": [
       "'H1,0,0,0,13,0i1147,126,1,0,0,0 80,28,34,104,93,3t5,0,5,6,0,2h6,59,0,0,0,0s9,0,13,0,0,0m80,0,0,11,0,0y5,0,0,5,8n8,13,0,0,0a9,0,0,19,19e13,45,94,94,0w2,0,0,0,0c6,0,2,0,0P2,0,0,0r8,0,0,11,9,0,0,0o8,6,0u8,0.9,0v2,0g9d5'"
      ]
     },
     "execution_count": 24,
     "metadata": {},
     "output_type": "execute_result"
    }
   ],
   "source": [
    "string = \"\"\n",
    "for key, value in my_dict.items():\n",
    "    string += key + '' + value + ''\n",
    "string"
   ]
  },
  {
   "cell_type": "code",
   "execution_count": null,
   "id": "e117a23e",
   "metadata": {},
   "outputs": [],
   "source": []
  }
 ],
 "metadata": {
  "kernelspec": {
   "display_name": "Python 3 (ipykernel)",
   "language": "python",
   "name": "python3"
  },
  "language_info": {
   "codemirror_mode": {
    "name": "ipython",
    "version": 3
   },
   "file_extension": ".py",
   "mimetype": "text/x-python",
   "name": "python",
   "nbconvert_exporter": "python",
   "pygments_lexer": "ipython3",
   "version": "3.9.4"
  }
 },
 "nbformat": 4,
 "nbformat_minor": 5
}
